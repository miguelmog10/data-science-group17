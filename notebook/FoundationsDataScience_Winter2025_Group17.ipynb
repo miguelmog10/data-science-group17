{
 "cells": [
  {
   "cell_type": "markdown",
   "id": "cae022f5-2c14-43cd-8912-64fa74d43b64",
   "metadata": {},
   "source": [
    "# Foundations of Data Science\n",
    "Winter 2025\n",
    "Group 17"
   ]
  },
  {
   "cell_type": "markdown",
   "id": "66fe789c-4024-4a08-a5bc-93b16048676e",
   "metadata": {},
   "source": [
    "## Team members\n",
    "- Jack (Xianguo) Hao\n",
    "- Kunwar Dhruv Sethi\n",
    "- Eric Ramalheiro\n",
    "- Lucas Hele\n",
    "- Faiza Qayoom\n",
    "- Miguel Morales"
   ]
  },
  {
   "cell_type": "code",
   "execution_count": null,
   "id": "ebbbe151-c8ac-4f33-b997-be45a160456d",
   "metadata": {},
   "outputs": [],
   "source": []
  }
 ],
 "metadata": {
  "kernelspec": {
   "display_name": "anaconda-2024.02-py310",
   "language": "python",
   "name": "conda-env-anaconda-2024.02-py310-py"
  },
  "language_info": {
   "codemirror_mode": {
    "name": "ipython",
    "version": 3
   },
   "file_extension": ".py",
   "mimetype": "text/x-python",
   "name": "python",
   "nbconvert_exporter": "python",
   "pygments_lexer": "ipython3",
   "version": "3.10.14"
  }
 },
 "nbformat": 4,
 "nbformat_minor": 5
}
