{
 "cells": [
  {
   "cell_type": "markdown",
   "id": "cae022f5-2c14-43cd-8912-64fa74d43b64",
   "metadata": {},
   "source": [
    "# Foundations of Data Science\n",
    "Winter 2025\n",
    "Group 17"
   ]
  },
  {
   "cell_type": "markdown",
   "id": "66fe789c-4024-4a08-a5bc-93b16048676e",
   "metadata": {},
   "source": [
    "## Team members\n",
    "- Jack (Xianguo) Hao\n",
    "- Kunwar Dhruv Sethi\n",
    "- Eric Ramalheiro\n",
    "- Lucas Hele\n",
    "- Faiza Qayoom\n",
    "- Miguel Morales 222"
   ]
  },
  {
   "cell_type": "markdown",
   "id": "9e52535f",
   "metadata": {},
   "source": [
    "**Import Modules**"
   ]
  },
  {
   "cell_type": "code",
   "execution_count": 22,
   "id": "b4b41b6d",
   "metadata": {},
   "outputs": [],
   "source": [
    "import pandas as pd"
   ]
  },
  {
   "cell_type": "markdown",
   "id": "47c9471d",
   "metadata": {},
   "source": [
    "**Read data**"
   ]
  },
  {
   "cell_type": "code",
   "execution_count": null,
   "id": "a4c24a25",
   "metadata": {},
   "outputs": [],
   "source": [
    "\n",
    "df = pd.read_csv('../data/cost_of_living_us.csv', na_values = '\\xa0')"
   ]
  },
  {
   "cell_type": "markdown",
   "id": "8b13d6a3",
   "metadata": {},
   "source": [
    "**Inspect Data** \n",
    "\n",
    "- Check for missing values and Garbage values"
   ]
  },
  {
   "cell_type": "code",
   "execution_count": 24,
   "id": "89018bd8",
   "metadata": {},
   "outputs": [
    {
     "name": "stdout",
     "output_type": "stream",
     "text": [
      "<class 'pandas.core.frame.DataFrame'>\n",
      "RangeIndex: 31430 entries, 0 to 31429\n",
      "Data columns (total 15 columns):\n",
      " #   Column                  Non-Null Count  Dtype  \n",
      "---  ------                  --------------  -----  \n",
      " 0   case_id                 31430 non-null  int64  \n",
      " 1   state                   31430 non-null  object \n",
      " 2   isMetro                 31430 non-null  bool   \n",
      " 3   areaname                31430 non-null  object \n",
      " 4   county                  31430 non-null  object \n",
      " 5   family_member_count     31430 non-null  object \n",
      " 6   housing_cost            31430 non-null  float64\n",
      " 7   food_cost               31430 non-null  float64\n",
      " 8   transportation_cost     31430 non-null  float64\n",
      " 9   healthcare_cost         31430 non-null  float64\n",
      " 10  other_necessities_cost  31430 non-null  float64\n",
      " 11  childcare_cost          31430 non-null  float64\n",
      " 12  taxes                   31430 non-null  float64\n",
      " 13  total_cost              31430 non-null  float64\n",
      " 14  median_family_income    31420 non-null  float64\n",
      "dtypes: bool(1), float64(9), int64(1), object(4)\n",
      "memory usage: 3.4+ MB\n"
     ]
    }
   ],
   "source": [
    "df.info()"
   ]
  },
  {
   "cell_type": "code",
   "execution_count": 25,
   "id": "9db215d6",
   "metadata": {},
   "outputs": [
    {
     "data": {
      "text/html": [
       "<div>\n",
       "<style scoped>\n",
       "    .dataframe tbody tr th:only-of-type {\n",
       "        vertical-align: middle;\n",
       "    }\n",
       "\n",
       "    .dataframe tbody tr th {\n",
       "        vertical-align: top;\n",
       "    }\n",
       "\n",
       "    .dataframe thead th {\n",
       "        text-align: right;\n",
       "    }\n",
       "</style>\n",
       "<table border=\"1\" class=\"dataframe\">\n",
       "  <thead>\n",
       "    <tr style=\"text-align: right;\">\n",
       "      <th></th>\n",
       "      <th>case_id</th>\n",
       "      <th>housing_cost</th>\n",
       "      <th>food_cost</th>\n",
       "      <th>transportation_cost</th>\n",
       "      <th>healthcare_cost</th>\n",
       "      <th>other_necessities_cost</th>\n",
       "      <th>childcare_cost</th>\n",
       "      <th>taxes</th>\n",
       "      <th>total_cost</th>\n",
       "      <th>median_family_income</th>\n",
       "    </tr>\n",
       "  </thead>\n",
       "  <tbody>\n",
       "    <tr>\n",
       "      <th>count</th>\n",
       "      <td>31430.000000</td>\n",
       "      <td>31430.000000</td>\n",
       "      <td>31430.000000</td>\n",
       "      <td>31430.000000</td>\n",
       "      <td>31430.000000</td>\n",
       "      <td>31430.000000</td>\n",
       "      <td>31430.000000</td>\n",
       "      <td>31430.000000</td>\n",
       "      <td>31430.000000</td>\n",
       "      <td>31420.000000</td>\n",
       "    </tr>\n",
       "    <tr>\n",
       "      <th>mean</th>\n",
       "      <td>1589.311804</td>\n",
       "      <td>11073.673539</td>\n",
       "      <td>8287.504557</td>\n",
       "      <td>13593.856381</td>\n",
       "      <td>13394.031748</td>\n",
       "      <td>7015.318377</td>\n",
       "      <td>9879.584233</td>\n",
       "      <td>7657.714782</td>\n",
       "      <td>70901.683601</td>\n",
       "      <td>68315.997017</td>\n",
       "    </tr>\n",
       "    <tr>\n",
       "      <th>std</th>\n",
       "      <td>917.218414</td>\n",
       "      <td>4165.606147</td>\n",
       "      <td>3271.140249</td>\n",
       "      <td>1640.456562</td>\n",
       "      <td>5204.545710</td>\n",
       "      <td>2397.415490</td>\n",
       "      <td>6778.223399</td>\n",
       "      <td>3339.795571</td>\n",
       "      <td>21846.545235</td>\n",
       "      <td>16886.970245</td>\n",
       "    </tr>\n",
       "    <tr>\n",
       "      <th>min</th>\n",
       "      <td>1.000000</td>\n",
       "      <td>4209.311280</td>\n",
       "      <td>2220.276840</td>\n",
       "      <td>2216.461440</td>\n",
       "      <td>3476.379960</td>\n",
       "      <td>2611.642080</td>\n",
       "      <td>0.000000</td>\n",
       "      <td>1027.800756</td>\n",
       "      <td>30087.662400</td>\n",
       "      <td>25529.976562</td>\n",
       "    </tr>\n",
       "    <tr>\n",
       "      <th>25%</th>\n",
       "      <td>792.000000</td>\n",
       "      <td>8580.000000</td>\n",
       "      <td>5801.424360</td>\n",
       "      <td>12535.159800</td>\n",
       "      <td>9667.440000</td>\n",
       "      <td>5286.354120</td>\n",
       "      <td>5341.621590</td>\n",
       "      <td>5597.970360</td>\n",
       "      <td>53776.019400</td>\n",
       "      <td>57223.988281</td>\n",
       "    </tr>\n",
       "    <tr>\n",
       "      <th>50%</th>\n",
       "      <td>1593.000000</td>\n",
       "      <td>10416.000000</td>\n",
       "      <td>8129.156280</td>\n",
       "      <td>13698.164400</td>\n",
       "      <td>13082.700000</td>\n",
       "      <td>6733.056120</td>\n",
       "      <td>10166.340120</td>\n",
       "      <td>6898.468860</td>\n",
       "      <td>70977.682800</td>\n",
       "      <td>65955.605469</td>\n",
       "    </tr>\n",
       "    <tr>\n",
       "      <th>75%</th>\n",
       "      <td>2386.000000</td>\n",
       "      <td>12444.000000</td>\n",
       "      <td>10703.624280</td>\n",
       "      <td>14765.758500</td>\n",
       "      <td>16657.816800</td>\n",
       "      <td>8413.090230</td>\n",
       "      <td>14276.377800</td>\n",
       "      <td>8790.207270</td>\n",
       "      <td>85371.341100</td>\n",
       "      <td>76136.070312</td>\n",
       "    </tr>\n",
       "    <tr>\n",
       "      <th>max</th>\n",
       "      <td>3171.000000</td>\n",
       "      <td>61735.587600</td>\n",
       "      <td>31178.619600</td>\n",
       "      <td>19816.482000</td>\n",
       "      <td>37252.274400</td>\n",
       "      <td>28829.443200</td>\n",
       "      <td>48831.085200</td>\n",
       "      <td>47753.390400</td>\n",
       "      <td>223717.548000</td>\n",
       "      <td>177662.468750</td>\n",
       "    </tr>\n",
       "  </tbody>\n",
       "</table>\n",
       "</div>"
      ],
      "text/plain": [
       "            case_id  housing_cost     food_cost  transportation_cost  \\\n",
       "count  31430.000000  31430.000000  31430.000000         31430.000000   \n",
       "mean    1589.311804  11073.673539   8287.504557         13593.856381   \n",
       "std      917.218414   4165.606147   3271.140249          1640.456562   \n",
       "min        1.000000   4209.311280   2220.276840          2216.461440   \n",
       "25%      792.000000   8580.000000   5801.424360         12535.159800   \n",
       "50%     1593.000000  10416.000000   8129.156280         13698.164400   \n",
       "75%     2386.000000  12444.000000  10703.624280         14765.758500   \n",
       "max     3171.000000  61735.587600  31178.619600         19816.482000   \n",
       "\n",
       "       healthcare_cost  other_necessities_cost  childcare_cost         taxes  \\\n",
       "count     31430.000000            31430.000000    31430.000000  31430.000000   \n",
       "mean      13394.031748             7015.318377     9879.584233   7657.714782   \n",
       "std        5204.545710             2397.415490     6778.223399   3339.795571   \n",
       "min        3476.379960             2611.642080        0.000000   1027.800756   \n",
       "25%        9667.440000             5286.354120     5341.621590   5597.970360   \n",
       "50%       13082.700000             6733.056120    10166.340120   6898.468860   \n",
       "75%       16657.816800             8413.090230    14276.377800   8790.207270   \n",
       "max       37252.274400            28829.443200    48831.085200  47753.390400   \n",
       "\n",
       "          total_cost  median_family_income  \n",
       "count   31430.000000          31420.000000  \n",
       "mean    70901.683601          68315.997017  \n",
       "std     21846.545235          16886.970245  \n",
       "min     30087.662400          25529.976562  \n",
       "25%     53776.019400          57223.988281  \n",
       "50%     70977.682800          65955.605469  \n",
       "75%     85371.341100          76136.070312  \n",
       "max    223717.548000         177662.468750  "
      ]
     },
     "execution_count": 25,
     "metadata": {},
     "output_type": "execute_result"
    }
   ],
   "source": [
    "## Describe for int / float values\n",
    "df.describe()"
   ]
  },
  {
   "cell_type": "code",
   "execution_count": 26,
   "id": "f5db32b1",
   "metadata": {},
   "outputs": [
    {
     "data": {
      "text/html": [
       "<div>\n",
       "<style scoped>\n",
       "    .dataframe tbody tr th:only-of-type {\n",
       "        vertical-align: middle;\n",
       "    }\n",
       "\n",
       "    .dataframe tbody tr th {\n",
       "        vertical-align: top;\n",
       "    }\n",
       "\n",
       "    .dataframe thead th {\n",
       "        text-align: right;\n",
       "    }\n",
       "</style>\n",
       "<table border=\"1\" class=\"dataframe\">\n",
       "  <thead>\n",
       "    <tr style=\"text-align: right;\">\n",
       "      <th></th>\n",
       "      <th>state</th>\n",
       "      <th>areaname</th>\n",
       "      <th>county</th>\n",
       "      <th>family_member_count</th>\n",
       "    </tr>\n",
       "  </thead>\n",
       "  <tbody>\n",
       "    <tr>\n",
       "      <th>count</th>\n",
       "      <td>31430</td>\n",
       "      <td>31430</td>\n",
       "      <td>31430</td>\n",
       "      <td>31430</td>\n",
       "    </tr>\n",
       "    <tr>\n",
       "      <th>unique</th>\n",
       "      <td>51</td>\n",
       "      <td>2561</td>\n",
       "      <td>1877</td>\n",
       "      <td>10</td>\n",
       "    </tr>\n",
       "    <tr>\n",
       "      <th>top</th>\n",
       "      <td>TX</td>\n",
       "      <td>Atlanta-Sandy Springs-Roswell, GA HUD Metro FM...</td>\n",
       "      <td>Washington County</td>\n",
       "      <td>1p0c</td>\n",
       "    </tr>\n",
       "    <tr>\n",
       "      <th>freq</th>\n",
       "      <td>2540</td>\n",
       "      <td>240</td>\n",
       "      <td>300</td>\n",
       "      <td>3143</td>\n",
       "    </tr>\n",
       "  </tbody>\n",
       "</table>\n",
       "</div>"
      ],
      "text/plain": [
       "        state                                           areaname  \\\n",
       "count   31430                                              31430   \n",
       "unique     51                                               2561   \n",
       "top        TX  Atlanta-Sandy Springs-Roswell, GA HUD Metro FM...   \n",
       "freq     2540                                                240   \n",
       "\n",
       "                   county family_member_count  \n",
       "count               31430               31430  \n",
       "unique               1877                  10  \n",
       "top     Washington County                1p0c  \n",
       "freq                  300                3143  "
      ]
     },
     "execution_count": 26,
     "metadata": {},
     "output_type": "execute_result"
    }
   ],
   "source": [
    "#Data describe for Object values\n",
    "df.describe(include=['O'])"
   ]
  },
  {
   "cell_type": "markdown",
   "id": "e91a5333",
   "metadata": {},
   "source": [
    "check for diplicate rows"
   ]
  },
  {
   "cell_type": "code",
   "execution_count": 27,
   "id": "fbf5bea3",
   "metadata": {},
   "outputs": [
    {
     "data": {
      "text/plain": [
       "case_id                   0\n",
       "state                     0\n",
       "isMetro                   0\n",
       "areaname                  0\n",
       "county                    0\n",
       "family_member_count       0\n",
       "housing_cost              0\n",
       "food_cost                 0\n",
       "transportation_cost       0\n",
       "healthcare_cost           0\n",
       "other_necessities_cost    0\n",
       "childcare_cost            0\n",
       "taxes                     0\n",
       "total_cost                0\n",
       "median_family_income      0\n",
       "dtype: int64"
      ]
     },
     "execution_count": 27,
     "metadata": {},
     "output_type": "execute_result"
    }
   ],
   "source": [
    "duplicate_rows_df = df[df.duplicated()]\n",
    "duplicate_rows_df.count()"
   ]
  },
  {
   "cell_type": "markdown",
   "id": "2e55883a",
   "metadata": {},
   "source": [
    "Observations:\n",
    "\n",
    "1. The data set contains 31430 rows and 15 columns \n",
    "2. Max case_id value is 3171, however each row should have unique value and max value should be 31430 does this mean there are duplicate case_id values, and if yes what does that mean ? Additionally, as per duplicate check there are no duplicate rows. Further analysis is required and also if it would make sense to type cast this column to string / object.\n",
    "3. Childcare_cost has $0 values - does that mean there is missing values ?\n",
    "4. There are 51 unique state values - further investigation is required, considering there are 50 States in United States\n",
    "5. Does values in 'areaname' columns are concatenated ? for instance 'Atlanta-Sandy.. ' and 'GA HUD Metro ..' is same area name or separate areanames\n",
    "6. values in family_member_count also requires further investigation as it seems values in this field are coded. For instance does 1p0c means 1 person and no child ? if yes, this column is good candidate for Feature Engineer i.e. split parent and childrens information. "
   ]
  }
 ],
 "metadata": {
  "kernelspec": {
   "display_name": "base",
   "language": "python",
   "name": "python3"
  },
  "language_info": {
   "codemirror_mode": {
    "name": "ipython",
    "version": 3
   },
   "file_extension": ".py",
   "mimetype": "text/x-python",
   "name": "python",
   "nbconvert_exporter": "python",
   "pygments_lexer": "ipython3",
   "version": "3.12.7"
  }
 },
 "nbformat": 4,
 "nbformat_minor": 5
}
